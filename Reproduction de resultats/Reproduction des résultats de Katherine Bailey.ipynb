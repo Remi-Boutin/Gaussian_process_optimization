{
 "cells": [
  {
   "cell_type": "markdown",
   "metadata": {},
   "source": [
    "### Reproduction du tutoriel de Katherine Bailey\n",
    "Ce notebook tente de reproduire le [tutoriel de Katherine Bailey](https://katbailey.github.io/post/gaussian-processes-for-dummies/) et d'étendre la présentation à différents noyaux de var-covar. \n",
    "Ce notebook est créé après la lecture du [papier de Brochu, Cora, Freitas (2010)](https://arxiv.org/abs/1012.2599) et grâce aux aides du site de ."
   ]
  },
  {
   "cell_type": "markdown",
   "metadata": {},
   "source": [
    "On génère 50 $x_i$  sur l'intervalle $[0,5]$ et on génère les $(y_i)_i$ tels que: \n",
    "$$ y_i = \\sin(x_i)  + \\sigma\\ \\eta_i =f(X_i)  + \\sigma\\ \\eta_i \\text{ avec } \\eta_i \\sim \\mathcal{N}(0,1)$$\n",
    "On met un prior sur f : un processus gaussien. Ce processus gaussien peut-être samplé comme décrit ci-dessous. Il peut aussi, pour chaque nouveau $x_{t+1}$, donner la moyenne de la valeur de la fonction estimée et la std de cette valeur en ce nouveau point. \n",
    "$$ f_{t}= [f(x_1) ... f(x_t)] ??$$\n",
    "On définit également la fonction kernel par le noyau exponentiel au carré (squared exponential kernel)"
   ]
  },
  {
   "cell_type": "code",
   "execution_count": 1,
   "metadata": {},
   "outputs": [],
   "source": [
    "import numpy as np\n",
    "X=np.linspace(0,5,50)\n",
    "Y= np.sin(X)\n",
    "\n",
    "def kernel(x1,x2, param = 1):\n",
    "    ### Squared exponential kernel avec un paramètre de mise à l'échelle param\n",
    "    return np.exp(-0.5*np.square((x1-x2[:,np.newaxis])/param))\n",
    "\n",
    "def update_join_distr(x_t, x_new, K, param=1):\n",
    "    ### Màj des paramètres de la loi jointe\n",
    "    k= kernel(x_t,x_new,param)\n",
    "    K=np.concatenate((K,k))\n",
    "    v=np.append(k,1).reshape(-1,1)\n",
    "    K=np.concatenate((K,v),axis=1)\n",
    "    return(K,k)\n",
    "\n",
    "\n",
    "### TRES IMPORTANT ! Pour sampler, on a besoin d'utiliser la décomposition de Cholesky Sigma = L L^T\n",
    "### Puis on ajoute la nouvelle moyenne + L*N(0,1) Pour avoir un sample suivant la loi a posteriori ! \n",
    "### Celà est différent de calculer la moyenne exacte qui donne une estimation de la valeur de la fonction objective\n",
    "### et non un échantillon provenant de la distribution ! \n",
    "\n",
    "def compute_cond_distr(x_new,k, K,f_t):\n",
    "    #Calcul de la moyenne et de la std de la loi conditionnelle pour l'observation x_new \n",
    "    tmp = np.matmul(k, np.linalg.inv(K))\n",
    "    mu_t_x_new= np.matmul(tmp, f_t)\n",
    "    sigma_t_x_new = 1 - np.matmul(tmp,k.T)\n",
    "    return mu_t_x_new, sigma_t_x_new"
   ]
  },
  {
   "cell_type": "markdown",
   "metadata": {},
   "source": [
    "On sait que pour un nouveau $x_{t+1}$la loi jointe avec $x_{1:t}$ est donnée par : \n",
    "$$\n",
    "a  a\\\\\n",
    "$$\n",
    "La loi conditionnelle est donnée par\n",
    "$$ \n",
    "p(y_{t+1}| \\mathcal{D}_t, x_{t+1}) = \\mathcal{N}\\left(\\mu_t ( x_{t+1}) , \\sigma^2_t(x_{t+1})\\right)\\\\\n",
    "\\mu_t ( x_{t+1}) = k^T K^{-1} f_{1:t} \\text{ avec } k^T := [\\kappa(x_{t+1},x_1),...,\\kappa(x_{t+1},x_t)]\\\\\n",
    "\\sigma^2_t( x_{t+1}) = \\kappa(x_{t+1},x_{t+1}) - k^T K^{-1} k\n",
    "$$"
   ]
  },
  {
   "cell_type": "markdown",
   "metadata": {},
   "source": [
    "Inverser une matrice n'est jamais vraiment souhaitable, on utilisa à la place des résolutions d'équations linéaires, plus rapides et plus précises.\n",
    "On rappelle la décomposotion de Cholesky. Soit M une matrice symétrique définie positive. Alors il existe $L$ une matrice triangulaire inférieure telle que : \n",
    "$$ \\mathrm{K} = \\mathrm{L} \\mathrm{L}^T $$\n",
    "$$  \\mu = k^T K^{-1} f_{1:t} = k^T (L L^T)^{-1} f_{1:t}\\\\\n",
    "= k^T (L^T)^{-1} L^{-1} f_{1:t}\\\\\n",
    "= (L^{-1} k)^T L^{-1} f_{1:t} $$  \n",
    "En remarquant que K inversible $\\Leftrightarrow\t$ L inversible ( $\\det(K) = \\det(L)\\det(L^T)$)  et  $L^{-1} k = x \\Leftrightarrow k = L x$\n",
    "On a alors \n",
    "$$ \\mu = L_k^T L_y $$ avec $L_k$ solution de $ L x = k$ et $L_y $ solution de l'équation $ L x = f_{1:t} $ \n",
    "\n",
    "De même \n",
    "$$\n",
    "\\sigma = \\kappa(x_{t+1}, x_{t+1}) - k^T K^{-1}k\\\\\n",
    "= \\kappa(x_{t+1}, x_{t+1}) - (L^{-1}k)^T L^{-1}k\n",
    "$$"
   ]
  },
  {
   "cell_type": "code",
   "execution_count": 2,
   "metadata": {},
   "outputs": [],
   "source": [
    "def compute_cond_distr(x, y, x_new):\n",
    "    #Sans erreur i.e : y_t = f(x_t) sans bruit\n",
    "    #Calcul de la moyenne et de la std de la loi conditionnelle pour l'observation x_new \n",
    "    k= kernel(x_new,x)\n",
    "    L = np.linalg.cholesky(kernel(x,x)+ 0.001*np.eye(x.shape[0]))\n",
    "    Lk = np.linalg.solve(L,k)\n",
    "    Ly = np.linalg.solve(L,y)\n",
    "    mu = np.dot(Lk.T, Ly)\n",
    "    sigma = kernel(x_new, x_new) - np.dot(Lk.T, Lk)\n",
    "    return mu, sigma"
   ]
  },
  {
   "cell_type": "code",
   "execution_count": 3,
   "metadata": {},
   "outputs": [
    {
     "name": "stdout",
     "output_type": "stream",
     "text": [
      "(40,)\n",
      "(40, 40)\n"
     ]
    }
   ],
   "source": [
    "####TEST DES FONCTIONS POUR DES VALEURS QUELCONQUES\n",
    "\n",
    "n_obs = 5\n",
    "x     = np.random.uniform(low=0,high=5, size=n_obs)\n",
    "y     = np.sin(x)\n",
    "\n",
    "n_newobs    = 40\n",
    "x_new = np.linspace(0,5, n_newobs)\n",
    "\n",
    "mu, sigma = compute_cond_distr(x,y, x_new)\n",
    "\n",
    "print(mu.shape)\n",
    "print(sigma.shape)"
   ]
  },
  {
   "cell_type": "markdown",
   "metadata": {},
   "source": [
    "### Sampling from the posterior"
   ]
  },
  {
   "cell_type": "markdown",
   "metadata": {},
   "source": [
    "On veut maintenant échantilloner selon la loi postérior."
   ]
  },
  {
   "cell_type": "code",
   "execution_count": 4,
   "metadata": {},
   "outputs": [],
   "source": [
    "n_posterior_samples = 3\n",
    "echantillon = mu + np.sqrt(np.diag(sigma)) * np.random.randn(n_posterior_samples,n_newobs)"
   ]
  },
  {
   "cell_type": "code",
   "execution_count": 5,
   "metadata": {},
   "outputs": [],
   "source": [
    "from matplotlib import pyplot as plt "
   ]
  },
  {
   "cell_type": "code",
   "execution_count": 7,
   "metadata": {},
   "outputs": [
    {
     "data": {
      "text/plain": [
       "<matplotlib.legend.Legend at 0x1b8d81f0d48>"
      ]
     },
     "execution_count": 7,
     "metadata": {},
     "output_type": "execute_result"
    },
    {
     "data": {
      "image/png": "[encoded data removed]",
      "text/plain": [
       "<Figure size 432x288 with 1 Axes>"
      ]
     },
     "metadata": {
      "needs_background": "light"
     },
     "output_type": "display_data"
    }
   ],
   "source": [
    "plt.plot(X,Y,'.', label=\"vraie fonction\")\n",
    "plt.plot(x,y, 'bs', ms=8,label= \"vraies données\")\n",
    "plt.plot(x_new[:,np.newaxis], echantillon.T, label=\"sample from the posterior\")\n",
    "plt.gca().fill_between(x_new.flat, mu-2*np.diag(sigma), mu+2*np.diag(sigma), color=\"#dddddd\")\n",
    "plt.xlabel(\"x\",fontsize=14)\n",
    "plt.ylabel('f(x)',fontsize=14)\n",
    "plt.legend()"
   ]
  },
  {
   "cell_type": "code",
   "execution_count": null,
   "metadata": {},
   "outputs": [],
   "source": []
  }
 ],
 "metadata": {
  "kernelspec": {
   "display_name": "ML_env",
   "language": "python",
   "name": "ml"
  },
  "language_info": {
   "codemirror_mode": {
    "name": "ipython",
    "version": 3
   },
   "file_extension": ".py",
   "mimetype": "text/x-python",
   "name": "python",
   "nbconvert_exporter": "python",
   "pygments_lexer": "ipython3",
   "version": "3.7.4"
  }
 },
 "nbformat": 4,
 "nbformat_minor": 2
}
